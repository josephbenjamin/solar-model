{
 "cells": [
  {
   "cell_type": "markdown",
   "metadata": {},
   "source": [
    "To get hourly data from the PVGIS API, you can use the series endpoint, which provides time series data for solar irradiance (DNI, DHI, GHI) and other meteorological parameters."
   ]
  },
  {
   "cell_type": "markdown",
   "metadata": {
    "vscode": {
     "languageId": "plaintext"
    }
   },
   "source": [
    "Required Parameters\n",
    "- `lat`: Latitude of the location.\n",
    "- `lon`: Longitude of the location.\n",
    "- `startyear`: The starting year for the data.\n",
    "- `endyear`: The ending year for the data.\n",
    "- `outputformat`: Format of the output (json or csv).\n",
    "- `usehorizon`: Whether to include horizon shading (1 for yes, 0 for no).\n",
    "- `pvcalculation`: Set to 0 to get only irradiance data (no PV system calculations).\n",
    "- `timeformat`: Set to 1 for hourly data."
   ]
  },
  {
   "cell_type": "code",
   "execution_count": null,
   "metadata": {},
   "outputs": [
    {
     "name": "stdout",
     "output_type": "stream",
     "text": [
      "https://re.jrc.ec.europa.eu/api/seriescalc?lat=51.483&lon=-1.718&startyear=2005&endyear=2023&outputformat=csv&usehorizon=1&pvcalculation=0&timeformat=1&components=1\n",
      "Hourly data saved to PVGIS_hourly_data.csv\n"
     ]
    }
   ],
   "source": [
    "import requests\n",
    "\n",
    "# Define the API URL and parameters\n",
    "url = \"https://re.jrc.ec.europa.eu/api/seriescalc?\"\n",
    "params = {\n",
    "    \"lat\": 51.483,  # Latitude\n",
    "    \"lon\": -1.718,  # Longitude\n",
    "    \"startyear\": 2005,\n",
    "    \"endyear\": 2023,\n",
    "    \"outputformat\": \"basic\",  # Output format (csv or json)\n",
    "    \"trackingtype\": 2,      # Fixed, 2-axis tracking\n",
    "    \"usehorizon\": 1,        # Include horizon shading\n",
    "    \"pvcalculation\": 0,     # Only irradiance data\n",
    "    \"timeformat\": 1,        # Hourly data\n",
    "    \"components\": 1\n",
    "}\n",
    "\n",
    "# Make the API request\n",
    "response = requests.get(url, params=params)\n",
    "print(response.url)\n",
    "\n",
    "# Save the response to a CSV file\n",
    "with open(\"data/PVGIS_hourly_data.csv\", \"w\") as file:\n",
    "    file.write(response.text)\n",
    "\n",
    "print(\"Hourly data saved to PVGIS_hourly_data.csv\")"
   ]
  },
  {
   "cell_type": "code",
   "execution_count": null,
   "metadata": {},
   "outputs": [],
   "source": []
  }
 ],
 "metadata": {
  "kernelspec": {
   "display_name": "solar-model-YrMhOydI",
   "language": "python",
   "name": "python3"
  },
  "language_info": {
   "codemirror_mode": {
    "name": "ipython",
    "version": 3
   },
   "file_extension": ".py",
   "mimetype": "text/x-python",
   "name": "python",
   "nbconvert_exporter": "python",
   "pygments_lexer": "ipython3",
   "version": "3.12.8"
  }
 },
 "nbformat": 4,
 "nbformat_minor": 2
}
